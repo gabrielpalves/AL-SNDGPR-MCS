{
 "cells": [
  {
   "cell_type": "markdown",
   "metadata": {},
   "source": [
    "# Active Learning Spectrally Normalized Deep Gaussian Process Regression Monte Carlo Simulation\n",
    "\n",
    "https://docs.gpytorch.ai/en/latest/examples/01_Exact_GPs/Simple_GP_Regression.html\n",
    "\n",
    "https://docs.gpytorch.ai/en/stable/examples/06_PyTorch_NN_Integration_DKL/KISSGP_Deep_Kernel_Regression_CUDA.html"
   ]
  },
  {
   "cell_type": "code",
   "execution_count": null,
   "metadata": {},
   "outputs": [],
   "source": [
    "from core.AL import AL\n",
    "from core.utils.plot_utils import results_plot, results_print"
   ]
  },
  {
   "cell_type": "code",
   "execution_count": null,
   "metadata": {},
   "outputs": [],
   "source": [
    "EXAMPLE = 'example1'"
   ]
  },
  {
   "cell_type": "markdown",
   "metadata": {},
   "source": [
    "## Start structural reliability assessment and Active Learning procedure"
   ]
  },
  {
   "cell_type": "code",
   "execution_count": null,
   "metadata": {},
   "outputs": [],
   "source": [
    "Results, History, Params = AL(EXAMPLE)"
   ]
  },
  {
   "cell_type": "markdown",
   "metadata": {},
   "source": [
    "## Display results and plot"
   ]
  },
  {
   "cell_type": "code",
   "execution_count": null,
   "metadata": {},
   "outputs": [],
   "source": [
    "results_print(Results, History, Params)"
   ]
  },
  {
   "cell_type": "code",
   "execution_count": null,
   "metadata": {},
   "outputs": [],
   "source": [
    "results_plot(History, Params)"
   ]
  },
  {
   "cell_type": "markdown",
   "metadata": {},
   "source": [
    "## Calculate $P_f$ with true performance function"
   ]
  },
  {
   "cell_type": "code",
   "execution_count": null,
   "metadata": {},
   "outputs": [],
   "source": [
    "from core.utils.import_utils import load_reliability_modules, load_example_modules\n",
    "\n",
    "Params = Params[\"Params\"]\n",
    "estimate_Pf, _ = load_reliability_modules(Params)\n",
    "RVs, limit_state_function, _ = load_example_modules(EXAMPLE)\n",
    "\n",
    "n = History['N_Init']\n",
    "x = History['X']\n",
    "x_candidate = History['MC_Sample']\n",
    "\n",
    "# Retrieve original x_candidate\n",
    "g1 = limit_state_function(x_candidate)\n",
    "g2 = limit_state_function(x[n:, :])\n",
    "\n",
    "Pf, _, _ = estimate_Pf(g1, g2, 0, Params['Params'])\n",
    "\n",
    "print(f'Failure probability with {Params.reliability.method}: {Pf}')"
   ]
  },
  {
   "cell_type": "markdown",
   "metadata": {},
   "source": [
    "## LOAD"
   ]
  },
  {
   "cell_type": "code",
   "execution_count": null,
   "metadata": {},
   "outputs": [],
   "source": [
    "# from core.utils.serialization_utils import pickle_load\n",
    "# pickle_load(EXAMPLE, ['Results', 'History', 'Params'])"
   ]
  }
 ],
 "metadata": {
  "kernelspec": {
   "display_name": "Python 3",
   "language": "python",
   "name": "python3"
  },
  "language_info": {
   "codemirror_mode": {
    "name": "ipython",
    "version": 3
   },
   "file_extension": ".py",
   "mimetype": "text/x-python",
   "name": "python",
   "nbconvert_exporter": "python",
   "pygments_lexer": "ipython3",
   "version": "3.12.4"
  }
 },
 "nbformat": 4,
 "nbformat_minor": 2
}
