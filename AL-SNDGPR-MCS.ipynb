{
 "cells": [
  {
   "cell_type": "markdown",
   "metadata": {},
   "source": [
    "# Active Learning Spectrally Normalized Deep Gaussian Process Regression Monte Carlo Simulation\n",
    "\n",
    "https://docs.gpytorch.ai/en/latest/examples/01_Exact_GPs/Simple_GP_Regression.html\n",
    "\n",
    "https://docs.gpytorch.ai/en/stable/examples/06_PyTorch_NN_Integration_DKL/KISSGP_Deep_Kernel_Regression_CUDA.html"
   ]
  },
  {
   "cell_type": "code",
   "execution_count": null,
   "metadata": {},
   "outputs": [],
   "source": [
    "import torch\n",
    "import matplotlib.pyplot as plt\n",
    "import numpy as np\n",
    "from SALib import ProblemSpec\n",
    "from SALib.sample import saltelli\n",
    "from SALib.analyze import sobol"
   ]
  },
  {
   "cell_type": "code",
   "execution_count": null,
   "metadata": {},
   "outputs": [],
   "source": [
    "from core.AL import AL\n",
    "from core.utils.plot_utils import results_plot, results_print"
   ]
  },
  {
   "cell_type": "code",
   "execution_count": null,
   "metadata": {},
   "outputs": [],
   "source": [
    "EXAMPLE = 'example1'"
   ]
  },
  {
   "cell_type": "markdown",
   "metadata": {},
   "source": [
    "## Start structural reliability assessment and Active Learning procedure"
   ]
  },
  {
   "cell_type": "code",
   "execution_count": null,
   "metadata": {},
   "outputs": [],
   "source": [
    "Results, History, Params, Data = AL(EXAMPLE)"
   ]
  },
  {
   "cell_type": "markdown",
   "metadata": {},
   "source": [
    "## Display results and plot"
   ]
  },
  {
   "cell_type": "code",
   "execution_count": null,
   "metadata": {},
   "outputs": [],
   "source": [
    "results_print(Results, History, Params)"
   ]
  },
  {
   "cell_type": "code",
   "execution_count": null,
   "metadata": {},
   "outputs": [],
   "source": [
    "results_plot(History, Params)"
   ]
  },
  {
   "cell_type": "markdown",
   "metadata": {},
   "source": [
    "# Sensitivity Analysis: Sobol' indices"
   ]
  },
  {
   "cell_type": "markdown",
   "metadata": {},
   "source": [
    "Load necessary modules"
   ]
  },
  {
   "cell_type": "code",
   "execution_count": null,
   "metadata": {},
   "outputs": [],
   "source": [
    "from core.utils.import_utils import load_core_modules, load_example_modules, load_surrogate_modules\n",
    "from core.learning_function import evaluate_lf\n",
    "\n",
    "_, learning_function, _ = load_core_modules(Params)\n",
    "RVs, _, _ = load_example_modules(EXAMPLE)\n",
    "predict, _ = load_surrogate_modules(Params)"
   ]
  },
  {
   "cell_type": "markdown",
   "metadata": {},
   "source": [
    "Create a function to evaluate $\\boldsymbol{x}$ with the trained surrogate"
   ]
  },
  {
   "cell_type": "code",
   "execution_count": null,
   "metadata": {},
   "outputs": [],
   "source": [
    "def evaluate_model(x):\n",
    "    if torch.cuda.is_available():\n",
    "        x = x.cuda()\n",
    "\n",
    "    preds = predict(Data.model, Data.likelihood, x)\n",
    "    Y, _, _ = evaluate_lf(preds, learning_function)\n",
    "\n",
    "    return Y.detach().cpu().numpy()"
   ]
  },
  {
   "cell_type": "markdown",
   "metadata": {},
   "source": [
    "Perform Sobol' indices calculation"
   ]
  },
  {
   "cell_type": "code",
   "execution_count": null,
   "metadata": {},
   "outputs": [],
   "source": [
    "# Import required libraries for Sobol' sensitivity analysis\n",
    "# Define the problem (input parameters and their bounds)\n",
    "problem = {\n",
    "    'num_vars': len(RVs),  # Number of input parameters\n",
    "    'names': [i['name'] for i in RVs],  # Names of the parameters\n",
    "    'bounds': [[0, 1] for i in range(len(RVs))]  # Bounds for each parameter\n",
    "}\n",
    "\n",
    "# Generate samples using Saltelli's sampling method\n",
    "param_values = saltelli.sample(problem, Params.sensitivity.n)\n",
    "\n",
    "# Evaluate the model at the sampled parameter values\n",
    "Y = evaluate_model(torch.Tensor(param_values))\n",
    "\n",
    "# Perform Sobol' sensitivity analysis\n",
    "Si = sobol.analyze(problem, Y, print_to_console=True)\n",
    "\n",
    "# Print the results\n",
    "print(\"First-order Sobol' indices (S1):\", Si['S1'])\n",
    "print(\"Second-order Sobol' indices (S2):\", Si['S2'])\n",
    "print(\"Total-order Sobol' indices (ST):\", Si['ST'])"
   ]
  },
  {
   "cell_type": "markdown",
   "metadata": {},
   "source": [
    "Plot results"
   ]
  },
  {
   "cell_type": "code",
   "execution_count": null,
   "metadata": {},
   "outputs": [],
   "source": [
    "# Define the LaTeX representations for your variables\n",
    "variable_names = problem['names']\n",
    "\n",
    "plt.rcParams.update({'font.size': 27})  # This will update the font size globally\n",
    "plt.rcParams['figure.dpi'] = 300\n",
    "\n",
    "# Create the subplots with a 4x1 layout\n",
    "fig, axes = plt.subplots(4, 1, figsize=(16, 40))  # 3 rows, 1 column, figsize for larger plots\n",
    "\n",
    "\n",
    "# Plot your Sobol' first order indices (Si['S1']) on the first subplot\n",
    "i = 0\n",
    "# axes[i].bar(np.arange(len(Si['S1'])), Si['S1'])\n",
    "axes[i].bar(np.arange(len(Si['S1'])), Si['S1'], yerr=Si['S1_conf'],\n",
    "            capsize=5, color='skyblue', edgecolor='black', linewidth=1.5, error_kw={'linewidth': 2})\n",
    "axes[i].set_yscale('log')\n",
    "\n",
    "# Set x-axis tick positions and labels\n",
    "axes[i].set_xticks(np.arange(len(variable_names)))\n",
    "axes[i].set_xticklabels(variable_names, rotation=90, ha='center')\n",
    "\n",
    "# Add titles and labels\n",
    "axes[i].set_title('First Order Sobol\\' Indices')\n",
    "axes[i].set_xlabel('Random variables')\n",
    "axes[i].set_ylabel('Sobol\\' Indices (log scale)')\n",
    "\n",
    "\n",
    "# Plot your Sobol' total order indices (Si['ST']) on the first subplot\n",
    "i = 1\n",
    "axes[i].bar(np.arange(len(Si['ST'])), Si['ST'], yerr=Si['ST_conf'],\n",
    "            capsize=5, color='#D3D3D3', edgecolor='black', linewidth=1.5, error_kw={'linewidth': 2})\n",
    "axes[i].set_yscale('log')\n",
    "\n",
    "# Set x-axis tick positions and labels\n",
    "axes[i].set_xticks(np.arange(len(variable_names)))\n",
    "axes[i].set_xticklabels(variable_names, rotation=90, ha='center')\n",
    "\n",
    "# Add titles and labels\n",
    "axes[i].set_title('Total Order Sobol\\' Indices')\n",
    "axes[i].set_xlabel('Random variables')\n",
    "axes[i].set_ylabel('Sobol\\' Indices (log scale)')\n",
    "\n",
    "\n",
    "# Plot your Sobol' first order indices (Si['S1']) on the first subplot\n",
    "i = 2\n",
    "# axes[i].bar(np.arange(len(Si['S1'])), Si['S1'])\n",
    "axes[i].bar(np.arange(len(Si['S1'])), Si['S1'], yerr=Si['S1_conf'],\n",
    "            capsize=5, color='skyblue', edgecolor='black', linewidth=1.5, error_kw={'linewidth': 2})\n",
    "\n",
    "# Set x-axis tick positions and labels\n",
    "axes[i].set_xticks(np.arange(len(variable_names)))\n",
    "axes[i].set_xticklabels(variable_names, rotation=90, ha='center')\n",
    "\n",
    "# Add titles and labels\n",
    "axes[i].set_title('First Order Sobol\\' Indices')\n",
    "axes[i].set_xlabel('Random variables')\n",
    "axes[i].set_ylabel('Sobol\\' Indices')\n",
    "\n",
    "\n",
    "# Plot your Sobol' total order indices (Si['ST']) on the first subplot\n",
    "i = 3\n",
    "axes[i].bar(np.arange(len(Si['ST'])), Si['ST'], yerr=Si['ST_conf'],\n",
    "            capsize=5, color='#D3D3D3', edgecolor='black', linewidth=1.5, error_kw={'linewidth': 2})\n",
    "\n",
    "# Set x-axis tick positions and labels\n",
    "axes[i].set_xticks(np.arange(len(variable_names)))\n",
    "axes[i].set_xticklabels(variable_names, rotation=90, ha='center')\n",
    "\n",
    "# Add titles and labels\n",
    "axes[i].set_title('Total Order Sobol\\' Indices')\n",
    "axes[i].set_xlabel('Random variables')\n",
    "axes[i].set_ylabel('Sobol\\' Indices')\n",
    "\n",
    "\n",
    "# Adjust layout and spacing\n",
    "fig.subplots_adjust(hspace=3)  # Adjust the vertical space between subplots\n",
    "\n",
    "# Tight layout for final adjustments\n",
    "plt.tight_layout()\n",
    "\n",
    "# Show the figure\n",
    "plt.show()"
   ]
  },
  {
   "cell_type": "markdown",
   "metadata": {},
   "source": [
    "## Calculate $P_f$ with true performance function"
   ]
  },
  {
   "cell_type": "code",
   "execution_count": null,
   "metadata": {},
   "outputs": [],
   "source": [
    "from core.utils.import_utils import load_reliability_modules, load_example_modules\n",
    "\n",
    "if isinstance(Params, dict):\n",
    "    Params = Params[\"Params\"]\n",
    "estimate_Pf, _ = load_reliability_modules(Params)\n",
    "RVs, limit_state_function, _ = load_example_modules(EXAMPLE)\n",
    "\n",
    "n = History['N_Init']\n",
    "x = History['X']\n",
    "x_candidate = History['MC_Sample']\n",
    "\n",
    "# Retrieve original x_candidate\n",
    "g1 = limit_state_function(x_candidate)\n",
    "g2 = limit_state_function(x[n:, :])\n",
    "\n",
    "Pf, _, _ = estimate_Pf(g1, g2, 0, Params['Params'])\n",
    "\n",
    "N = g1.shape[0] + g2.shape[0]\n",
    "\n",
    "print(f'Failure probability with {Params.reliability.method}: {Pf}')\n",
    "print(f'CoV of Pf: {( Pf*(1-Pf)/N )**0.5 / Pf * 100:.2f}%')"
   ]
  },
  {
   "cell_type": "markdown",
   "metadata": {},
   "source": [
    "## LOAD"
   ]
  },
  {
   "cell_type": "code",
   "execution_count": null,
   "metadata": {},
   "outputs": [],
   "source": [
    "# from core.utils.serialization_utils import pickle_load\n",
    "# loaded_data = pickle_load(EXAMPLE, ['Results', 'History', 'Params'])"
   ]
  }
 ],
 "metadata": {
  "kernelspec": {
   "display_name": "Python 3",
   "language": "python",
   "name": "python3"
  },
  "language_info": {
   "codemirror_mode": {
    "name": "ipython",
    "version": 3
   },
   "file_extension": ".py",
   "mimetype": "text/x-python",
   "name": "python",
   "nbconvert_exporter": "python",
   "pygments_lexer": "ipython3",
   "version": "3.13.2"
  }
 },
 "nbformat": 4,
 "nbformat_minor": 2
}
